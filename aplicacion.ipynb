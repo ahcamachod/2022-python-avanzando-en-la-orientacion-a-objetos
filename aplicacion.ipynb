{
  "nbformat": 4,
  "nbformat_minor": 0,
  "metadata": {
    "colab": {
      "provenance": [],
      "authorship_tag": "ABX9TyORJ5BwQqLhVSmhPA/Fqu7g",
      "include_colab_link": true
    },
    "kernelspec": {
      "name": "python3",
      "display_name": "Python 3"
    },
    "language_info": {
      "name": "python"
    }
  },
  "cells": [
    {
      "cell_type": "markdown",
      "metadata": {
        "id": "view-in-github",
        "colab_type": "text"
      },
      "source": [
        "<a href=\"https://colab.research.google.com/github/ahcamachod/2022-python-avanzando-en-la-orientacion-a-objetos/blob/aula-2/aplicacion.ipynb\" target=\"_parent\"><img src=\"https://colab.research.google.com/assets/colab-badge.svg\" alt=\"Open In Colab\"/></a>"
      ]
    },
    {
      "cell_type": "code",
      "execution_count": 1,
      "metadata": {
        "id": "xI_6cE-3Z1v1"
      },
      "outputs": [],
      "source": [
        "class Pelicula:\n",
        "  pass"
      ]
    },
    {
      "cell_type": "code",
      "source": [
        "pelicula = Pelicula()"
      ],
      "metadata": {
        "id": "LmI5jVhaaQWC"
      },
      "execution_count": 2,
      "outputs": []
    },
    {
      "cell_type": "code",
      "source": [
        "pelicula"
      ],
      "metadata": {
        "colab": {
          "base_uri": "https://localhost:8080/"
        },
        "id": "_7LeaHHnaZKs",
        "outputId": "5478abb5-7969-4e1d-913e-4c33f920c320"
      },
      "execution_count": 3,
      "outputs": [
        {
          "output_type": "execute_result",
          "data": {
            "text/plain": [
              "<__main__.Pelicula at 0x7cf09a4c1480>"
            ]
          },
          "metadata": {},
          "execution_count": 3
        }
      ]
    },
    {
      "cell_type": "code",
      "source": [
        "pelicula = None"
      ],
      "metadata": {
        "id": "bMYZqTGla_CC"
      },
      "execution_count": 4,
      "outputs": []
    },
    {
      "cell_type": "code",
      "source": [
        "pelicula"
      ],
      "metadata": {
        "id": "F8mbWSpObGgI"
      },
      "execution_count": 5,
      "outputs": []
    },
    {
      "cell_type": "code",
      "source": [
        "class Pelicula:\n",
        "  def __init__(self, nombre, ano, duracion):\n",
        "    self.nombre = nombre\n",
        "    self.ano = ano\n",
        "    self.duracion =duracion\n",
        "\n",
        "class Serie:\n",
        "  def __init__(self, nombre, ano, temporadas):\n",
        "    self.nombre = nombre\n",
        "    self.ano = ano\n",
        "    self.temporadas = temporadas"
      ],
      "metadata": {
        "id": "JpH6NwdVabXU"
      },
      "execution_count": 6,
      "outputs": []
    },
    {
      "cell_type": "code",
      "source": [
        "spr = Pelicula('salvando al soldado ryan','1998','170')\n",
        "hl = Serie('heartland',2007,16)"
      ],
      "metadata": {
        "id": "nTbkD6OmbkY2"
      },
      "execution_count": 7,
      "outputs": []
    },
    {
      "cell_type": "code",
      "source": [
        "print(spr.nombre)"
      ],
      "metadata": {
        "colab": {
          "base_uri": "https://localhost:8080/"
        },
        "id": "-z9dHO32b6sn",
        "outputId": "78877066-61ed-4126-fbea-e56479c91f9c"
      },
      "execution_count": 8,
      "outputs": [
        {
          "output_type": "stream",
          "name": "stdout",
          "text": [
            "salvando al soldado ryan\n"
          ]
        }
      ]
    },
    {
      "cell_type": "code",
      "source": [
        "print(hl.nombre)"
      ],
      "metadata": {
        "colab": {
          "base_uri": "https://localhost:8080/"
        },
        "id": "tg0s9YRpdvDz",
        "outputId": "0e337c6d-66ea-476b-81e0-9eb7a7e68c1d"
      },
      "execution_count": 9,
      "outputs": [
        {
          "output_type": "stream",
          "name": "stdout",
          "text": [
            "heartland\n"
          ]
        }
      ]
    },
    {
      "cell_type": "code",
      "source": [
        "print(f'El nombre de la película es: {spr.nombre} - el año {spr.ano} - la duración {spr.duracion} minutos.')\n",
        "print(f'El nombre de la serie es: {hl.nombre} - el año {hl.ano} - el número de temporadas {hl.temporadas}.')"
      ],
      "metadata": {
        "colab": {
          "base_uri": "https://localhost:8080/"
        },
        "id": "uj4qq2sbdydh",
        "outputId": "8076cdd9-6fd6-47a4-c4d9-10087741ae00"
      },
      "execution_count": 10,
      "outputs": [
        {
          "output_type": "stream",
          "name": "stdout",
          "text": [
            "El nombre de la película es: salvando al soldado ryan - el año 1998 - la duración 170 minutos.\n",
            "El nombre de la serie es: heartland - el año 2007 - el número de temporadas 16.\n"
          ]
        }
      ]
    },
    {
      "cell_type": "code",
      "source": [
        "spr.nombre.capitalize()"
      ],
      "metadata": {
        "colab": {
          "base_uri": "https://localhost:8080/",
          "height": 36
        },
        "id": "QPP3Sut6ePXn",
        "outputId": "8563da3a-4f6d-4daf-a7b7-3769682973f7"
      },
      "execution_count": 11,
      "outputs": [
        {
          "output_type": "execute_result",
          "data": {
            "text/plain": [
              "'Salvando al soldado ryan'"
            ],
            "application/vnd.google.colaboratory.intrinsic+json": {
              "type": "string"
            }
          },
          "metadata": {},
          "execution_count": 11
        }
      ]
    },
    {
      "cell_type": "code",
      "source": [
        "spr.nombre.title()"
      ],
      "metadata": {
        "colab": {
          "base_uri": "https://localhost:8080/",
          "height": 36
        },
        "id": "N2qhdoVNfuqg",
        "outputId": "4b3696a5-2cb3-491e-bfc0-de293f7d4a0c"
      },
      "execution_count": 12,
      "outputs": [
        {
          "output_type": "execute_result",
          "data": {
            "text/plain": [
              "'Salvando Al Soldado Ryan'"
            ],
            "application/vnd.google.colaboratory.intrinsic+json": {
              "type": "string"
            }
          },
          "metadata": {},
          "execution_count": 12
        }
      ]
    },
    {
      "cell_type": "code",
      "source": [
        "class Pelicula:\n",
        "  def __init__(self, nombre, ano, duracion):\n",
        "    self.nombre = nombre.title()\n",
        "    self.ano = ano\n",
        "    self.duracion =duracion\n",
        "    self.me_gusta = 0\n",
        "\n",
        "  def gusta(self):\n",
        "    self.me_gusta += 1\n",
        "\n",
        "class Serie:\n",
        "  def __init__(self, nombre, ano, temporadas):\n",
        "    self.nombre = nombre.title()\n",
        "    self.ano = ano\n",
        "    self.temporadas = temporadas\n",
        "    self.me_gusta = 0\n",
        "\n",
        "  def gusta(self):\n",
        "    self.me_gusta += 1"
      ],
      "metadata": {
        "id": "AZ_0mqMPhVff"
      },
      "execution_count": 13,
      "outputs": []
    },
    {
      "cell_type": "code",
      "source": [
        "spr = Pelicula('salvando al soldado ryan','1998','170')\n",
        "hl = Serie('heartland',2007,16)"
      ],
      "metadata": {
        "id": "sFIOVvj6iJTX"
      },
      "execution_count": 14,
      "outputs": []
    },
    {
      "cell_type": "code",
      "source": [
        "print(spr.nombre)"
      ],
      "metadata": {
        "colab": {
          "base_uri": "https://localhost:8080/"
        },
        "id": "9ukGwP49iN6i",
        "outputId": "cfea977b-2164-4708-e9a1-890555f8dd39"
      },
      "execution_count": 15,
      "outputs": [
        {
          "output_type": "stream",
          "name": "stdout",
          "text": [
            "Salvando Al Soldado Ryan\n"
          ]
        }
      ]
    },
    {
      "cell_type": "code",
      "source": [
        "print(f'El nombre de la película es: {spr.nombre} - el año {spr.ano} - la duración {spr.duracion} minutos. Cantidad de likes: {spr.me_gusta}')\n",
        "print(f'El nombre de la serie es: {hl.nombre} - el año {hl.ano} - el número de temporadas {hl.temporadas}. Cantidad de likes: {hl.me_gusta}')"
      ],
      "metadata": {
        "colab": {
          "base_uri": "https://localhost:8080/"
        },
        "id": "4fjI9ereiQjw",
        "outputId": "ba38ac37-0213-4368-bff9-c4171c526986"
      },
      "execution_count": 16,
      "outputs": [
        {
          "output_type": "stream",
          "name": "stdout",
          "text": [
            "El nombre de la película es: Salvando Al Soldado Ryan - el año 1998 - la duración 170 minutos. Cantidad de likes: 0\n",
            "El nombre de la serie es: Heartland - el año 2007 - el número de temporadas 16. Cantidad de likes: 0\n"
          ]
        }
      ]
    },
    {
      "cell_type": "code",
      "source": [
        "spr.gusta()"
      ],
      "metadata": {
        "id": "oznNnLyKjdBf"
      },
      "execution_count": 17,
      "outputs": []
    },
    {
      "cell_type": "code",
      "source": [
        "hl.gusta()"
      ],
      "metadata": {
        "id": "HIzwSD0_jmMJ"
      },
      "execution_count": 18,
      "outputs": []
    },
    {
      "cell_type": "code",
      "source": [
        "print(f'El nombre de la película es: {spr.nombre} - el año {spr.ano} - la duración {spr.duracion} minutos. Cantidad de likes: {spr.me_gusta}')\n",
        "print(f'El nombre de la serie es: {hl.nombre} - el año {hl.ano} - el número de temporadas {hl.temporadas}. Cantidad de likes: {hl.me_gusta}')"
      ],
      "metadata": {
        "colab": {
          "base_uri": "https://localhost:8080/"
        },
        "id": "e-KqDce0jpdO",
        "outputId": "9c249702-49e0-4643-ceac-1fafcbaf7638"
      },
      "execution_count": 19,
      "outputs": [
        {
          "output_type": "stream",
          "name": "stdout",
          "text": [
            "El nombre de la película es: Salvando Al Soldado Ryan - el año 1998 - la duración 170 minutos. Cantidad de likes: 1\n",
            "El nombre de la serie es: Heartland - el año 2007 - el número de temporadas 16. Cantidad de likes: 1\n"
          ]
        }
      ]
    },
    {
      "cell_type": "code",
      "source": [
        "spr.nombre = 'ryan'"
      ],
      "metadata": {
        "id": "2JJJRc7-jrr8"
      },
      "execution_count": 20,
      "outputs": []
    },
    {
      "cell_type": "code",
      "source": [
        "print(f'El nombre de la película es: {spr.nombre} - el año {spr.ano} - la duración {spr.duracion} minutos. Cantidad de likes: {spr.me_gusta}')\n",
        "print(f'El nombre de la serie es: {hl.nombre} - el año {hl.ano} - el número de temporadas {hl.temporadas}. Cantidad de likes: {hl.me_gusta}')"
      ],
      "metadata": {
        "colab": {
          "base_uri": "https://localhost:8080/"
        },
        "id": "VSt8jN8cj2zA",
        "outputId": "1904532f-4c1a-4867-85ac-f4616fc44c4a"
      },
      "execution_count": 21,
      "outputs": [
        {
          "output_type": "stream",
          "name": "stdout",
          "text": [
            "El nombre de la película es: ryan - el año 1998 - la duración 170 minutos. Cantidad de likes: 1\n",
            "El nombre de la serie es: Heartland - el año 2007 - el número de temporadas 16. Cantidad de likes: 1\n"
          ]
        }
      ]
    },
    {
      "cell_type": "code",
      "source": [
        "class Pelicula:\n",
        "  def __init__(self, nombre, ano, duracion):\n",
        "    self.__nombre = nombre.title()\n",
        "    self.ano = ano\n",
        "    self.duracion =duracion\n",
        "    self.__me_gusta = 0\n",
        "\n",
        "  @property\n",
        "  def nombre(self):\n",
        "    return self.__nombre\n",
        "\n",
        "  @property\n",
        "  def me_gusta(self):\n",
        "    return self.__me_gusta\n",
        "\n",
        "  @nombre.setter\n",
        "  def nombre(self,nuevo_nombre):\n",
        "    self.__nombre = nuevo_nombre.title()\n",
        "\n",
        "  def gusta(self):\n",
        "    self.__me_gusta += 1\n",
        "\n",
        "class Serie:\n",
        "  def __init__(self, nombre, ano, temporadas):\n",
        "    self.__nombre = nombre.title()\n",
        "    self.ano = ano\n",
        "    self.temporadas = temporadas\n",
        "    self.__me_gusta = 0\n",
        "\n",
        "  @property\n",
        "  def nombre(self):\n",
        "    return self.__nombre\n",
        "\n",
        "  @property\n",
        "  def me_gusta(self):\n",
        "    return self.__me_gusta\n",
        "\n",
        "  @nombre.setter\n",
        "  def nombre(self,nuevo_nombre):\n",
        "    self.__nombre = nuevo_nombre.title()\n",
        "\n",
        "  def gusta(self):\n",
        "    self.__me_gusta += 1"
      ],
      "metadata": {
        "id": "HGWnRLPymbMn"
      },
      "execution_count": 22,
      "outputs": []
    },
    {
      "cell_type": "code",
      "source": [
        "spr = Pelicula('salvando al soldado ryan','1998','170')\n",
        "hl = Serie('heartland',2007,16)"
      ],
      "metadata": {
        "id": "Cnsh_i2Wovnc"
      },
      "execution_count": 23,
      "outputs": []
    },
    {
      "cell_type": "code",
      "source": [
        "spr.nombre = 'rescatando al soldado ryan'"
      ],
      "metadata": {
        "id": "9Y2MYcuJpI1n"
      },
      "execution_count": 24,
      "outputs": []
    },
    {
      "cell_type": "code",
      "source": [
        "spr.nombre"
      ],
      "metadata": {
        "colab": {
          "base_uri": "https://localhost:8080/",
          "height": 36
        },
        "id": "C4cgD6REpI4E",
        "outputId": "9a17b86a-cfb8-4bd2-9e0a-f31d2d2caf49"
      },
      "execution_count": 25,
      "outputs": [
        {
          "output_type": "execute_result",
          "data": {
            "text/plain": [
              "'Rescatando Al Soldado Ryan'"
            ],
            "application/vnd.google.colaboratory.intrinsic+json": {
              "type": "string"
            }
          },
          "metadata": {},
          "execution_count": 25
        }
      ]
    },
    {
      "cell_type": "code",
      "source": [
        "print(f'El nombre de la película es: {spr.nombre} - el año {spr.ano} - la duración {spr.duracion} minutos. Cantidad de likes: {spr.me_gusta}')\n",
        "print(f'El nombre de la serie es: {hl.nombre} - el año {hl.ano} - el número de temporadas {hl.temporadas}. Cantidad de likes: {hl.me_gusta}')"
      ],
      "metadata": {
        "colab": {
          "base_uri": "https://localhost:8080/"
        },
        "id": "YOutwNRio_KO",
        "outputId": "9c44cc06-43fe-4433-9d42-337e2135137a"
      },
      "execution_count": 26,
      "outputs": [
        {
          "output_type": "stream",
          "name": "stdout",
          "text": [
            "El nombre de la película es: Rescatando Al Soldado Ryan - el año 1998 - la duración 170 minutos. Cantidad de likes: 0\n",
            "El nombre de la serie es: Heartland - el año 2007 - el número de temporadas 16. Cantidad de likes: 0\n"
          ]
        }
      ]
    },
    {
      "cell_type": "code",
      "source": [],
      "metadata": {
        "id": "cWkrUmlGd1eu"
      },
      "execution_count": null,
      "outputs": []
    }
  ]
}