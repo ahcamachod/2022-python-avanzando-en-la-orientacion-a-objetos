{
  "nbformat": 4,
  "nbformat_minor": 0,
  "metadata": {
    "colab": {
      "provenance": [],
      "authorship_tag": "ABX9TyNS+oV+Vlq4q4AeqgS86O8E",
      "include_colab_link": true
    },
    "kernelspec": {
      "name": "python3",
      "display_name": "Python 3"
    },
    "language_info": {
      "name": "python"
    }
  },
  "cells": [
    {
      "cell_type": "markdown",
      "metadata": {
        "id": "view-in-github",
        "colab_type": "text"
      },
      "source": [
        "<a href=\"https://colab.research.google.com/github/ahcamachod/2022-python-avanzando-en-la-orientacion-a-objetos/blob/aula-3/aplicacion.ipynb\" target=\"_parent\"><img src=\"https://colab.research.google.com/assets/colab-badge.svg\" alt=\"Open In Colab\"/></a>"
      ]
    },
    {
      "cell_type": "code",
      "execution_count": 1,
      "metadata": {
        "id": "xI_6cE-3Z1v1"
      },
      "outputs": [],
      "source": [
        "class Pelicula:\n",
        "  pass"
      ]
    },
    {
      "cell_type": "code",
      "source": [
        "pelicula = Pelicula()"
      ],
      "metadata": {
        "id": "LmI5jVhaaQWC"
      },
      "execution_count": 2,
      "outputs": []
    },
    {
      "cell_type": "code",
      "source": [
        "pelicula"
      ],
      "metadata": {
        "colab": {
          "base_uri": "https://localhost:8080/"
        },
        "id": "_7LeaHHnaZKs",
        "outputId": "a558734e-7cdd-40a2-afda-e4ff6443f313"
      },
      "execution_count": 3,
      "outputs": [
        {
          "output_type": "execute_result",
          "data": {
            "text/plain": [
              "<__main__.Pelicula at 0x7ac17bbc1e40>"
            ]
          },
          "metadata": {},
          "execution_count": 3
        }
      ]
    },
    {
      "cell_type": "code",
      "source": [
        "pelicula = None"
      ],
      "metadata": {
        "id": "bMYZqTGla_CC"
      },
      "execution_count": 4,
      "outputs": []
    },
    {
      "cell_type": "code",
      "source": [
        "pelicula"
      ],
      "metadata": {
        "id": "F8mbWSpObGgI"
      },
      "execution_count": 5,
      "outputs": []
    },
    {
      "cell_type": "code",
      "source": [
        "class Pelicula:\n",
        "  def __init__(self, nombre, ano, duracion):\n",
        "    self.nombre = nombre\n",
        "    self.ano = ano\n",
        "    self.duracion =duracion\n",
        "\n",
        "class Serie:\n",
        "  def __init__(self, nombre, ano, temporadas):\n",
        "    self.nombre = nombre\n",
        "    self.ano = ano\n",
        "    self.temporadas = temporadas"
      ],
      "metadata": {
        "id": "JpH6NwdVabXU"
      },
      "execution_count": 6,
      "outputs": []
    },
    {
      "cell_type": "code",
      "source": [
        "spr = Pelicula('salvando al soldado ryan','1998','170')\n",
        "hl = Serie('heartland',2007,16)"
      ],
      "metadata": {
        "id": "nTbkD6OmbkY2"
      },
      "execution_count": 7,
      "outputs": []
    },
    {
      "cell_type": "code",
      "source": [
        "print(spr.nombre)"
      ],
      "metadata": {
        "colab": {
          "base_uri": "https://localhost:8080/"
        },
        "id": "-z9dHO32b6sn",
        "outputId": "3e00913f-273d-4327-fbf2-71b54a581255"
      },
      "execution_count": 8,
      "outputs": [
        {
          "output_type": "stream",
          "name": "stdout",
          "text": [
            "salvando al soldado ryan\n"
          ]
        }
      ]
    },
    {
      "cell_type": "code",
      "source": [
        "print(hl.nombre)"
      ],
      "metadata": {
        "colab": {
          "base_uri": "https://localhost:8080/"
        },
        "id": "tg0s9YRpdvDz",
        "outputId": "2dc80e11-9f0a-4ab7-b892-d9092200a47d"
      },
      "execution_count": 9,
      "outputs": [
        {
          "output_type": "stream",
          "name": "stdout",
          "text": [
            "heartland\n"
          ]
        }
      ]
    },
    {
      "cell_type": "code",
      "source": [
        "print(f'El nombre de la película es: {spr.nombre} - el año {spr.ano} - la duración {spr.duracion} minutos.')\n",
        "print(f'El nombre de la serie es: {hl.nombre} - el año {hl.ano} - el número de temporadas {hl.temporadas}.')"
      ],
      "metadata": {
        "colab": {
          "base_uri": "https://localhost:8080/"
        },
        "id": "uj4qq2sbdydh",
        "outputId": "5ca3de25-3e83-4f8a-a92f-e41942680aaf"
      },
      "execution_count": 10,
      "outputs": [
        {
          "output_type": "stream",
          "name": "stdout",
          "text": [
            "El nombre de la película es: salvando al soldado ryan - el año 1998 - la duración 170 minutos.\n",
            "El nombre de la serie es: heartland - el año 2007 - el número de temporadas 16.\n"
          ]
        }
      ]
    },
    {
      "cell_type": "code",
      "source": [
        "spr.nombre.capitalize()"
      ],
      "metadata": {
        "colab": {
          "base_uri": "https://localhost:8080/",
          "height": 36
        },
        "id": "QPP3Sut6ePXn",
        "outputId": "455668d3-1c16-45d4-831f-0934390239e3"
      },
      "execution_count": 11,
      "outputs": [
        {
          "output_type": "execute_result",
          "data": {
            "text/plain": [
              "'Salvando al soldado ryan'"
            ],
            "application/vnd.google.colaboratory.intrinsic+json": {
              "type": "string"
            }
          },
          "metadata": {},
          "execution_count": 11
        }
      ]
    },
    {
      "cell_type": "code",
      "source": [
        "spr.nombre.title()"
      ],
      "metadata": {
        "colab": {
          "base_uri": "https://localhost:8080/",
          "height": 36
        },
        "id": "N2qhdoVNfuqg",
        "outputId": "fa7a051e-126c-418c-8060-03a34996b9d8"
      },
      "execution_count": 12,
      "outputs": [
        {
          "output_type": "execute_result",
          "data": {
            "text/plain": [
              "'Salvando Al Soldado Ryan'"
            ],
            "application/vnd.google.colaboratory.intrinsic+json": {
              "type": "string"
            }
          },
          "metadata": {},
          "execution_count": 12
        }
      ]
    },
    {
      "cell_type": "code",
      "source": [
        "class Pelicula:\n",
        "  def __init__(self, nombre, ano, duracion):\n",
        "    self.nombre = nombre.title()\n",
        "    self.ano = ano\n",
        "    self.duracion =duracion\n",
        "    self.me_gusta = 0\n",
        "\n",
        "  def gusta(self):\n",
        "    self.me_gusta += 1\n",
        "\n",
        "class Serie:\n",
        "  def __init__(self, nombre, ano, temporadas):\n",
        "    self.nombre = nombre.title()\n",
        "    self.ano = ano\n",
        "    self.temporadas = temporadas\n",
        "    self.me_gusta = 0\n",
        "\n",
        "  def gusta(self):\n",
        "    self.me_gusta += 1"
      ],
      "metadata": {
        "id": "AZ_0mqMPhVff"
      },
      "execution_count": 13,
      "outputs": []
    },
    {
      "cell_type": "code",
      "source": [
        "spr = Pelicula('salvando al soldado ryan','1998','170')\n",
        "hl = Serie('heartland',2007,16)"
      ],
      "metadata": {
        "id": "sFIOVvj6iJTX"
      },
      "execution_count": 14,
      "outputs": []
    },
    {
      "cell_type": "code",
      "source": [
        "print(spr.nombre)"
      ],
      "metadata": {
        "colab": {
          "base_uri": "https://localhost:8080/"
        },
        "id": "9ukGwP49iN6i",
        "outputId": "2e7d9ef3-d163-4cbd-cf14-e56c345e223a"
      },
      "execution_count": 15,
      "outputs": [
        {
          "output_type": "stream",
          "name": "stdout",
          "text": [
            "Salvando Al Soldado Ryan\n"
          ]
        }
      ]
    },
    {
      "cell_type": "code",
      "source": [
        "print(f'El nombre de la película es: {spr.nombre} - el año {spr.ano} - la duración {spr.duracion} minutos. Cantidad de likes: {spr.me_gusta}')\n",
        "print(f'El nombre de la serie es: {hl.nombre} - el año {hl.ano} - el número de temporadas {hl.temporadas}. Cantidad de likes: {hl.me_gusta}')"
      ],
      "metadata": {
        "colab": {
          "base_uri": "https://localhost:8080/"
        },
        "id": "4fjI9ereiQjw",
        "outputId": "48271b67-74ec-4740-d486-c5c86e1de4ee"
      },
      "execution_count": 16,
      "outputs": [
        {
          "output_type": "stream",
          "name": "stdout",
          "text": [
            "El nombre de la película es: Salvando Al Soldado Ryan - el año 1998 - la duración 170 minutos. Cantidad de likes: 0\n",
            "El nombre de la serie es: Heartland - el año 2007 - el número de temporadas 16. Cantidad de likes: 0\n"
          ]
        }
      ]
    },
    {
      "cell_type": "code",
      "source": [
        "spr.gusta()"
      ],
      "metadata": {
        "id": "oznNnLyKjdBf"
      },
      "execution_count": 17,
      "outputs": []
    },
    {
      "cell_type": "code",
      "source": [
        "hl.gusta()"
      ],
      "metadata": {
        "id": "HIzwSD0_jmMJ"
      },
      "execution_count": 18,
      "outputs": []
    },
    {
      "cell_type": "code",
      "source": [
        "print(f'El nombre de la película es: {spr.nombre} - el año {spr.ano} - la duración {spr.duracion} minutos. Cantidad de likes: {spr.me_gusta}')\n",
        "print(f'El nombre de la serie es: {hl.nombre} - el año {hl.ano} - el número de temporadas {hl.temporadas}. Cantidad de likes: {hl.me_gusta}')"
      ],
      "metadata": {
        "colab": {
          "base_uri": "https://localhost:8080/"
        },
        "id": "e-KqDce0jpdO",
        "outputId": "a3550da6-07b8-417f-a14c-4b3f27d1f0e1"
      },
      "execution_count": 19,
      "outputs": [
        {
          "output_type": "stream",
          "name": "stdout",
          "text": [
            "El nombre de la película es: Salvando Al Soldado Ryan - el año 1998 - la duración 170 minutos. Cantidad de likes: 1\n",
            "El nombre de la serie es: Heartland - el año 2007 - el número de temporadas 16. Cantidad de likes: 1\n"
          ]
        }
      ]
    },
    {
      "cell_type": "code",
      "source": [
        "spr.nombre = 'ryan'"
      ],
      "metadata": {
        "id": "2JJJRc7-jrr8"
      },
      "execution_count": 20,
      "outputs": []
    },
    {
      "cell_type": "code",
      "source": [
        "print(f'El nombre de la película es: {spr.nombre} - el año {spr.ano} - la duración {spr.duracion} minutos. Cantidad de likes: {spr.me_gusta}')\n",
        "print(f'El nombre de la serie es: {hl.nombre} - el año {hl.ano} - el número de temporadas {hl.temporadas}. Cantidad de likes: {hl.me_gusta}')"
      ],
      "metadata": {
        "colab": {
          "base_uri": "https://localhost:8080/"
        },
        "id": "VSt8jN8cj2zA",
        "outputId": "9ea0d31a-90c7-4da1-9e91-0ec761932621"
      },
      "execution_count": 21,
      "outputs": [
        {
          "output_type": "stream",
          "name": "stdout",
          "text": [
            "El nombre de la película es: ryan - el año 1998 - la duración 170 minutos. Cantidad de likes: 1\n",
            "El nombre de la serie es: Heartland - el año 2007 - el número de temporadas 16. Cantidad de likes: 1\n"
          ]
        }
      ]
    },
    {
      "cell_type": "code",
      "source": [
        "class Pelicula:\n",
        "  def __init__(self, nombre, ano, duracion):\n",
        "    self.__nombre = nombre.title()\n",
        "    self.ano = ano\n",
        "    self.duracion =duracion\n",
        "    self.__me_gusta = 0\n",
        "\n",
        "  @property\n",
        "  def nombre(self):\n",
        "    return self.__nombre\n",
        "\n",
        "  @property\n",
        "  def me_gusta(self):\n",
        "    return self.__me_gusta\n",
        "\n",
        "  @nombre.setter\n",
        "  def nombre(self,nuevo_nombre):\n",
        "    self.__nombre = nuevo_nombre.title()\n",
        "\n",
        "  def gusta(self):\n",
        "    self.__me_gusta += 1\n",
        "\n",
        "class Serie:\n",
        "  def __init__(self, nombre, ano, temporadas):\n",
        "    self.__nombre = nombre.title()\n",
        "    self.ano = ano\n",
        "    self.temporadas = temporadas\n",
        "    self.__me_gusta = 0\n",
        "\n",
        "  @property\n",
        "  def nombre(self):\n",
        "    return self.__nombre\n",
        "\n",
        "  @property\n",
        "  def me_gusta(self):\n",
        "    return self.__me_gusta\n",
        "\n",
        "  @nombre.setter\n",
        "  def nombre(self,nuevo_nombre):\n",
        "    self.__nombre = nuevo_nombre.title()\n",
        "\n",
        "  def gusta(self):\n",
        "    self.__me_gusta += 1"
      ],
      "metadata": {
        "id": "HGWnRLPymbMn"
      },
      "execution_count": 22,
      "outputs": []
    },
    {
      "cell_type": "code",
      "source": [
        "spr = Pelicula('salvando al soldado ryan','1998','170')\n",
        "hl = Serie('heartland',2007,16)"
      ],
      "metadata": {
        "id": "Cnsh_i2Wovnc"
      },
      "execution_count": 23,
      "outputs": []
    },
    {
      "cell_type": "code",
      "source": [
        "spr.nombre = 'rescatando al soldado ryan'"
      ],
      "metadata": {
        "id": "9Y2MYcuJpI1n"
      },
      "execution_count": 24,
      "outputs": []
    },
    {
      "cell_type": "code",
      "source": [
        "spr.nombre"
      ],
      "metadata": {
        "colab": {
          "base_uri": "https://localhost:8080/",
          "height": 36
        },
        "id": "C4cgD6REpI4E",
        "outputId": "3d84b04f-fb2c-46c4-85a4-168e441e3af4"
      },
      "execution_count": 25,
      "outputs": [
        {
          "output_type": "execute_result",
          "data": {
            "text/plain": [
              "'Rescatando Al Soldado Ryan'"
            ],
            "application/vnd.google.colaboratory.intrinsic+json": {
              "type": "string"
            }
          },
          "metadata": {},
          "execution_count": 25
        }
      ]
    },
    {
      "cell_type": "code",
      "source": [
        "print(f'El nombre de la película es: {spr.nombre} - el año {spr.ano} - la duración {spr.duracion} minutos. Cantidad de likes: {spr.me_gusta}')\n",
        "print(f'El nombre de la serie es: {hl.nombre} - el año {hl.ano} - el número de temporadas {hl.temporadas}. Cantidad de likes: {hl.me_gusta}')"
      ],
      "metadata": {
        "colab": {
          "base_uri": "https://localhost:8080/"
        },
        "id": "YOutwNRio_KO",
        "outputId": "936c5f96-700a-4c4c-858d-acec8903411a"
      },
      "execution_count": 26,
      "outputs": [
        {
          "output_type": "stream",
          "name": "stdout",
          "text": [
            "El nombre de la película es: Rescatando Al Soldado Ryan - el año 1998 - la duración 170 minutos. Cantidad de likes: 0\n",
            "El nombre de la serie es: Heartland - el año 2007 - el número de temporadas 16. Cantidad de likes: 0\n"
          ]
        }
      ]
    },
    {
      "cell_type": "code",
      "source": [
        "class Multimedia:\n",
        "  def __init__(self, nombre, ano):\n",
        "    self._nombre = nombre.title()\n",
        "    self.ano = ano\n",
        "    self._me_gusta = 0\n",
        "\n",
        "  @property\n",
        "  def nombre(self):\n",
        "    return self._nombre\n",
        "\n",
        "  @property\n",
        "  def me_gusta(self):\n",
        "    return self._me_gusta\n",
        "\n",
        "  @nombre.setter\n",
        "  def nombre(self,nuevo_nombre):\n",
        "    self._nombre = nuevo_nombre.title()\n",
        "\n",
        "  def gusta(self):\n",
        "    self._me_gusta += 1\n",
        "\n",
        "class Pelicula(Multimedia):\n",
        "  def __init__(self, nombre, ano, duracion):\n",
        "    super().__init__(nombre, ano)\n",
        "    self.duracion =duracion\n",
        "    self._me_gusta = 0\n",
        "\n",
        "class Serie(Multimedia):\n",
        "  def __init__(self, nombre, ano, temporadas):\n",
        "    super().__init__(nombre, ano)\n",
        "    self.temporadas = temporadas\n",
        "    self._me_gusta = 0"
      ],
      "metadata": {
        "id": "1OJSZ68VyvfB"
      },
      "execution_count": 27,
      "outputs": []
    },
    {
      "cell_type": "code",
      "source": [
        "spr = Pelicula('salvando al soldado ryan','1998','170')\n",
        "hl = Serie('heartland',2007,16)\n",
        "print(f'El nombre de la película es: {spr.nombre} - el año {spr.ano} - la duración {spr.duracion} minutos. Cantidad de likes: {spr.me_gusta}')\n",
        "print(f'El nombre de la serie es: {hl.nombre} - el año {hl.ano} - el número de temporadas {hl.temporadas}. Cantidad de likes: {hl.me_gusta}')"
      ],
      "metadata": {
        "id": "E3w1OLQw4_lu",
        "colab": {
          "base_uri": "https://localhost:8080/"
        },
        "outputId": "e64dfe4a-ff31-4466-d10e-dddaabe44ea5"
      },
      "execution_count": 28,
      "outputs": [
        {
          "output_type": "stream",
          "name": "stdout",
          "text": [
            "El nombre de la película es: Salvando Al Soldado Ryan - el año 1998 - la duración 170 minutos. Cantidad de likes: 0\n",
            "El nombre de la serie es: Heartland - el año 2007 - el número de temporadas 16. Cantidad de likes: 0\n"
          ]
        }
      ]
    }
  ]
}