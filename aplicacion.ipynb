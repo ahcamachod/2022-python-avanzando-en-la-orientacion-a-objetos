{
  "nbformat": 4,
  "nbformat_minor": 0,
  "metadata": {
    "colab": {
      "provenance": [],
      "authorship_tag": "ABX9TyO71ruUsfQ81JT162bdfpLE",
      "include_colab_link": true
    },
    "kernelspec": {
      "name": "python3",
      "display_name": "Python 3"
    },
    "language_info": {
      "name": "python"
    }
  },
  "cells": [
    {
      "cell_type": "markdown",
      "metadata": {
        "id": "view-in-github",
        "colab_type": "text"
      },
      "source": [
        "<a href=\"https://colab.research.google.com/github/ahcamachod/2022-python-avanzando-en-la-orientacion-a-objetos/blob/aula-5/aplicacion.ipynb\" target=\"_parent\"><img src=\"https://colab.research.google.com/assets/colab-badge.svg\" alt=\"Open In Colab\"/></a>"
      ]
    },
    {
      "cell_type": "code",
      "execution_count": null,
      "metadata": {
        "id": "xI_6cE-3Z1v1"
      },
      "outputs": [],
      "source": [
        "class Pelicula:\n",
        "  pass"
      ]
    },
    {
      "cell_type": "code",
      "source": [
        "pelicula = Pelicula()"
      ],
      "metadata": {
        "id": "LmI5jVhaaQWC"
      },
      "execution_count": null,
      "outputs": []
    },
    {
      "cell_type": "code",
      "source": [
        "pelicula"
      ],
      "metadata": {
        "colab": {
          "base_uri": "https://localhost:8080/"
        },
        "id": "_7LeaHHnaZKs",
        "outputId": "31581c10-174f-4d42-c4fe-e1fa0642678e"
      },
      "execution_count": null,
      "outputs": [
        {
          "output_type": "execute_result",
          "data": {
            "text/plain": [
              "<__main__.Pelicula at 0x7f6b44351f60>"
            ]
          },
          "metadata": {},
          "execution_count": 3
        }
      ]
    },
    {
      "cell_type": "code",
      "source": [
        "pelicula = None"
      ],
      "metadata": {
        "id": "bMYZqTGla_CC"
      },
      "execution_count": null,
      "outputs": []
    },
    {
      "cell_type": "code",
      "source": [
        "pelicula"
      ],
      "metadata": {
        "id": "F8mbWSpObGgI"
      },
      "execution_count": null,
      "outputs": []
    },
    {
      "cell_type": "code",
      "source": [
        "class Pelicula:\n",
        "  def __init__(self, nombre, ano, duracion):\n",
        "    self.nombre = nombre\n",
        "    self.ano = ano\n",
        "    self.duracion =duracion\n",
        "\n",
        "class Serie:\n",
        "  def __init__(self, nombre, ano, temporadas):\n",
        "    self.nombre = nombre\n",
        "    self.ano = ano\n",
        "    self.temporadas = temporadas"
      ],
      "metadata": {
        "id": "JpH6NwdVabXU"
      },
      "execution_count": null,
      "outputs": []
    },
    {
      "cell_type": "code",
      "source": [
        "spr = Pelicula('salvando al soldado ryan','1998','170')\n",
        "hl = Serie('heartland',2007,16)"
      ],
      "metadata": {
        "id": "nTbkD6OmbkY2"
      },
      "execution_count": null,
      "outputs": []
    },
    {
      "cell_type": "code",
      "source": [
        "print(spr.nombre)"
      ],
      "metadata": {
        "colab": {
          "base_uri": "https://localhost:8080/"
        },
        "id": "-z9dHO32b6sn",
        "outputId": "d021f5bb-92c4-4d0d-8845-c0005507245f"
      },
      "execution_count": null,
      "outputs": [
        {
          "output_type": "stream",
          "name": "stdout",
          "text": [
            "salvando al soldado ryan\n"
          ]
        }
      ]
    },
    {
      "cell_type": "code",
      "source": [
        "print(hl.nombre)"
      ],
      "metadata": {
        "colab": {
          "base_uri": "https://localhost:8080/"
        },
        "id": "tg0s9YRpdvDz",
        "outputId": "f2facd33-b202-410e-84a8-45045a2b643f"
      },
      "execution_count": null,
      "outputs": [
        {
          "output_type": "stream",
          "name": "stdout",
          "text": [
            "heartland\n"
          ]
        }
      ]
    },
    {
      "cell_type": "code",
      "source": [
        "print(f'El nombre de la película es: {spr.nombre} - el año {spr.ano} - la duración {spr.duracion} minutos.')\n",
        "print(f'El nombre de la serie es: {hl.nombre} - el año {hl.ano} - el número de temporadas {hl.temporadas}.')"
      ],
      "metadata": {
        "colab": {
          "base_uri": "https://localhost:8080/"
        },
        "id": "uj4qq2sbdydh",
        "outputId": "45bcdbc7-ab7e-4f00-e298-02acc59cd5d5"
      },
      "execution_count": null,
      "outputs": [
        {
          "output_type": "stream",
          "name": "stdout",
          "text": [
            "El nombre de la película es: salvando al soldado ryan - el año 1998 - la duración 170 minutos.\n",
            "El nombre de la serie es: heartland - el año 2007 - el número de temporadas 16.\n"
          ]
        }
      ]
    },
    {
      "cell_type": "code",
      "source": [
        "spr.nombre.capitalize()"
      ],
      "metadata": {
        "colab": {
          "base_uri": "https://localhost:8080/",
          "height": 35
        },
        "id": "QPP3Sut6ePXn",
        "outputId": "fa6592b1-45b0-4166-bf4f-b219ce980b04"
      },
      "execution_count": null,
      "outputs": [
        {
          "output_type": "execute_result",
          "data": {
            "text/plain": [
              "'Salvando al soldado ryan'"
            ],
            "application/vnd.google.colaboratory.intrinsic+json": {
              "type": "string"
            }
          },
          "metadata": {},
          "execution_count": 11
        }
      ]
    },
    {
      "cell_type": "code",
      "source": [
        "spr.nombre.title()"
      ],
      "metadata": {
        "colab": {
          "base_uri": "https://localhost:8080/",
          "height": 35
        },
        "id": "N2qhdoVNfuqg",
        "outputId": "692ce0a8-d3a2-4a39-a802-14a570018071"
      },
      "execution_count": null,
      "outputs": [
        {
          "output_type": "execute_result",
          "data": {
            "text/plain": [
              "'Salvando Al Soldado Ryan'"
            ],
            "application/vnd.google.colaboratory.intrinsic+json": {
              "type": "string"
            }
          },
          "metadata": {},
          "execution_count": 12
        }
      ]
    },
    {
      "cell_type": "code",
      "source": [
        "class Pelicula:\n",
        "  def __init__(self, nombre, ano, duracion):\n",
        "    self.nombre = nombre.title()\n",
        "    self.ano = ano\n",
        "    self.duracion =duracion\n",
        "    self.me_gusta = 0\n",
        "\n",
        "  def gusta(self):\n",
        "    self.me_gusta += 1\n",
        "\n",
        "class Serie:\n",
        "  def __init__(self, nombre, ano, temporadas):\n",
        "    self.nombre = nombre.title()\n",
        "    self.ano = ano\n",
        "    self.temporadas = temporadas\n",
        "    self.me_gusta = 0\n",
        "\n",
        "  def gusta(self):\n",
        "    self.me_gusta += 1"
      ],
      "metadata": {
        "id": "AZ_0mqMPhVff"
      },
      "execution_count": null,
      "outputs": []
    },
    {
      "cell_type": "code",
      "source": [
        "spr = Pelicula('salvando al soldado ryan','1998','170')\n",
        "hl = Serie('heartland',2007,16)"
      ],
      "metadata": {
        "id": "sFIOVvj6iJTX"
      },
      "execution_count": null,
      "outputs": []
    },
    {
      "cell_type": "code",
      "source": [
        "print(spr.nombre)"
      ],
      "metadata": {
        "colab": {
          "base_uri": "https://localhost:8080/"
        },
        "id": "9ukGwP49iN6i",
        "outputId": "4e246144-db2f-4c80-936f-22da1de8fb89"
      },
      "execution_count": null,
      "outputs": [
        {
          "output_type": "stream",
          "name": "stdout",
          "text": [
            "Salvando Al Soldado Ryan\n"
          ]
        }
      ]
    },
    {
      "cell_type": "code",
      "source": [
        "print(f'El nombre de la película es: {spr.nombre} - el año {spr.ano} - la duración {spr.duracion} minutos. Cantidad de likes: {spr.me_gusta}')\n",
        "print(f'El nombre de la serie es: {hl.nombre} - el año {hl.ano} - el número de temporadas {hl.temporadas}. Cantidad de likes: {hl.me_gusta}')"
      ],
      "metadata": {
        "colab": {
          "base_uri": "https://localhost:8080/"
        },
        "id": "4fjI9ereiQjw",
        "outputId": "ad0a8159-e6c1-4878-dcc6-e6ab9a1970a7"
      },
      "execution_count": null,
      "outputs": [
        {
          "output_type": "stream",
          "name": "stdout",
          "text": [
            "El nombre de la película es: Salvando Al Soldado Ryan - el año 1998 - la duración 170 minutos. Cantidad de likes: 0\n",
            "El nombre de la serie es: Heartland - el año 2007 - el número de temporadas 16. Cantidad de likes: 0\n"
          ]
        }
      ]
    },
    {
      "cell_type": "code",
      "source": [
        "spr.gusta()"
      ],
      "metadata": {
        "id": "oznNnLyKjdBf"
      },
      "execution_count": null,
      "outputs": []
    },
    {
      "cell_type": "code",
      "source": [
        "hl.gusta()"
      ],
      "metadata": {
        "id": "HIzwSD0_jmMJ"
      },
      "execution_count": null,
      "outputs": []
    },
    {
      "cell_type": "code",
      "source": [
        "print(f'El nombre de la película es: {spr.nombre} - el año {spr.ano} - la duración {spr.duracion} minutos. Cantidad de likes: {spr.me_gusta}')\n",
        "print(f'El nombre de la serie es: {hl.nombre} - el año {hl.ano} - el número de temporadas {hl.temporadas}. Cantidad de likes: {hl.me_gusta}')"
      ],
      "metadata": {
        "colab": {
          "base_uri": "https://localhost:8080/"
        },
        "id": "e-KqDce0jpdO",
        "outputId": "3163b862-809a-4569-b1ca-82566ee7a0ef"
      },
      "execution_count": null,
      "outputs": [
        {
          "output_type": "stream",
          "name": "stdout",
          "text": [
            "El nombre de la película es: Salvando Al Soldado Ryan - el año 1998 - la duración 170 minutos. Cantidad de likes: 1\n",
            "El nombre de la serie es: Heartland - el año 2007 - el número de temporadas 16. Cantidad de likes: 1\n"
          ]
        }
      ]
    },
    {
      "cell_type": "code",
      "source": [
        "spr.nombre = 'ryan'"
      ],
      "metadata": {
        "id": "2JJJRc7-jrr8"
      },
      "execution_count": null,
      "outputs": []
    },
    {
      "cell_type": "code",
      "source": [
        "print(f'El nombre de la película es: {spr.nombre} - el año {spr.ano} - la duración {spr.duracion} minutos. Cantidad de likes: {spr.me_gusta}')\n",
        "print(f'El nombre de la serie es: {hl.nombre} - el año {hl.ano} - el número de temporadas {hl.temporadas}. Cantidad de likes: {hl.me_gusta}')"
      ],
      "metadata": {
        "colab": {
          "base_uri": "https://localhost:8080/"
        },
        "id": "VSt8jN8cj2zA",
        "outputId": "86d1450a-3481-46e5-fe4a-4b3fee2f84ef"
      },
      "execution_count": null,
      "outputs": [
        {
          "output_type": "stream",
          "name": "stdout",
          "text": [
            "El nombre de la película es: ryan - el año 1998 - la duración 170 minutos. Cantidad de likes: 1\n",
            "El nombre de la serie es: Heartland - el año 2007 - el número de temporadas 16. Cantidad de likes: 1\n"
          ]
        }
      ]
    },
    {
      "cell_type": "code",
      "source": [
        "class Pelicula:\n",
        "  def __init__(self, nombre, ano, duracion):\n",
        "    self.__nombre = nombre.title()\n",
        "    self.ano = ano\n",
        "    self.duracion =duracion\n",
        "    self.__me_gusta = 0\n",
        "\n",
        "  @property\n",
        "  def nombre(self):\n",
        "    return self.__nombre\n",
        "\n",
        "  @property\n",
        "  def me_gusta(self):\n",
        "    return self.__me_gusta\n",
        "\n",
        "  @nombre.setter\n",
        "  def nombre(self,nuevo_nombre):\n",
        "    self.__nombre = nuevo_nombre.title()\n",
        "\n",
        "  def gusta(self):\n",
        "    self.__me_gusta += 1\n",
        "\n",
        "class Serie:\n",
        "  def __init__(self, nombre, ano, temporadas):\n",
        "    self.__nombre = nombre.title()\n",
        "    self.ano = ano\n",
        "    self.temporadas = temporadas\n",
        "    self.__me_gusta = 0\n",
        "\n",
        "  @property\n",
        "  def nombre(self):\n",
        "    return self.__nombre\n",
        "\n",
        "  @property\n",
        "  def me_gusta(self):\n",
        "    return self.__me_gusta\n",
        "\n",
        "  @nombre.setter\n",
        "  def nombre(self,nuevo_nombre):\n",
        "    self.__nombre = nuevo_nombre.title()\n",
        "\n",
        "  def gusta(self):\n",
        "    self.__me_gusta += 1"
      ],
      "metadata": {
        "id": "HGWnRLPymbMn"
      },
      "execution_count": null,
      "outputs": []
    },
    {
      "cell_type": "code",
      "source": [
        "spr = Pelicula('salvando al soldado ryan','1998','170')\n",
        "hl = Serie('heartland',2007,16)"
      ],
      "metadata": {
        "id": "Cnsh_i2Wovnc"
      },
      "execution_count": null,
      "outputs": []
    },
    {
      "cell_type": "code",
      "source": [
        "spr.nombre = 'rescatando al soldado ryan'"
      ],
      "metadata": {
        "id": "9Y2MYcuJpI1n"
      },
      "execution_count": null,
      "outputs": []
    },
    {
      "cell_type": "code",
      "source": [
        "spr.nombre"
      ],
      "metadata": {
        "colab": {
          "base_uri": "https://localhost:8080/",
          "height": 35
        },
        "id": "C4cgD6REpI4E",
        "outputId": "eb0d734c-1a00-4735-de16-b5637cb7da49"
      },
      "execution_count": null,
      "outputs": [
        {
          "output_type": "execute_result",
          "data": {
            "text/plain": [
              "'Rescatando Al Soldado Ryan'"
            ],
            "application/vnd.google.colaboratory.intrinsic+json": {
              "type": "string"
            }
          },
          "metadata": {},
          "execution_count": 25
        }
      ]
    },
    {
      "cell_type": "code",
      "source": [
        "peliculas_series = [spr,hl]\n",
        "\n",
        "for multimedia in peliculas_series:\n",
        "  detalles = multimedia.duracion if hasattr(multimedia,'duracion') else multimedia.temporadas\n",
        "  print(f'{multimedia.nombre} - Detalles: {detalles} - {multimedia.me_gusta}')"
      ],
      "metadata": {
        "colab": {
          "base_uri": "https://localhost:8080/"
        },
        "id": "0UsDOye45OOu",
        "outputId": "ad9a0a8e-1f0d-439b-9e74-8b41b976dd88"
      },
      "execution_count": null,
      "outputs": [
        {
          "output_type": "stream",
          "name": "stdout",
          "text": [
            "Rescatando Al Soldado Ryan - Detalles: 170 - 0\n",
            "Heartland - Detalles: 16 - 0\n"
          ]
        }
      ]
    },
    {
      "cell_type": "code",
      "source": [
        "print(f'El nombre de la película es: {spr.nombre} - el año {spr.ano} - la duración {spr.duracion} minutos. Cantidad de likes: {spr.me_gusta}')\n",
        "print(f'El nombre de la serie es: {hl.nombre} - el año {hl.ano} - el número de temporadas {hl.temporadas}. Cantidad de likes: {hl.me_gusta}')"
      ],
      "metadata": {
        "colab": {
          "base_uri": "https://localhost:8080/"
        },
        "id": "YOutwNRio_KO",
        "outputId": "6a842c04-59dd-400d-8e7d-de860a75112b"
      },
      "execution_count": null,
      "outputs": [
        {
          "output_type": "stream",
          "name": "stdout",
          "text": [
            "El nombre de la película es: Rescatando Al Soldado Ryan - el año 1998 - la duración 170 minutos. Cantidad de likes: 0\n",
            "El nombre de la serie es: Heartland - el año 2007 - el número de temporadas 16. Cantidad de likes: 0\n"
          ]
        }
      ]
    },
    {
      "cell_type": "code",
      "source": [
        "class Playlist:\n",
        "  def __init__(self, nombre, multimedia):\n",
        "    self._nombre = nombre\n",
        "    self._multimedia = multimedia\n",
        "\n",
        "  @property\n",
        "  def lista(self):\n",
        "    return self._multimedia\n",
        "\n",
        "  @property\n",
        "  def tamano(self):\n",
        "    return len(self._multimedia)\n",
        "\n",
        "\n",
        "class Multimedia:\n",
        "  def __init__(self, nombre, ano):\n",
        "    self._nombre = nombre.title()\n",
        "    self.ano = ano\n",
        "    self._me_gusta = 0\n",
        "\n",
        "  @property\n",
        "  def nombre(self):\n",
        "    return self._nombre\n",
        "\n",
        "  @property\n",
        "  def me_gusta(self):\n",
        "    return self._me_gusta\n",
        "\n",
        "  @nombre.setter\n",
        "  def nombre(self,nuevo_nombre):\n",
        "    self._nombre = nuevo_nombre.title()\n",
        "\n",
        "  def gusta(self):\n",
        "    self._me_gusta += 1\n",
        "\n",
        "  # def imprime(self):\n",
        "  #   print(f'{self.nombre} - {self.ano} - {self._me_gusta} Likes.')\n",
        "\n",
        "  def __str__(self):\n",
        "    return f'{self.nombre} - {self.ano} - {self._me_gusta} Likes.'\n",
        "\n",
        "class Pelicula(Multimedia):\n",
        "  def __init__(self, nombre, ano, duracion):\n",
        "    super().__init__(nombre, ano)\n",
        "    self.duracion =duracion\n",
        "    self._me_gusta = 0\n",
        "\n",
        "  # def imprime(self):\n",
        "  #   print(f'{self.nombre} - {self.ano} - {self.duracion} min - {self._me_gusta} Likes.')\n",
        "\n",
        "  def __str__(self):\n",
        "    return f'{self.nombre} - {self.ano} - {self.duracion} min - {self._me_gusta} Likes.'\n",
        "\n",
        "class Serie(Multimedia):\n",
        "  def __init__(self, nombre, ano, temporadas):\n",
        "    super().__init__(nombre, ano)\n",
        "    self.temporadas = temporadas\n",
        "    self._me_gusta = 0\n",
        "\n",
        "  # def imprime(self):\n",
        "  #   print(f'{self.nombre} - {self.ano} - {self.temporadas} temporadas - {self._me_gusta} Likes.')\n",
        "\n",
        "  def __str__(self):\n",
        "    return f'{self.nombre} - {self.ano} - {self.temporadas} temporadas - {self._me_gusta} Likes.'"
      ],
      "metadata": {
        "id": "1OJSZ68VyvfB"
      },
      "execution_count": null,
      "outputs": []
    },
    {
      "cell_type": "code",
      "source": [
        "spr = Pelicula('salvando al soldado ryan','1998','170')\n",
        "hl = Serie('heartland',2007,16)\n",
        "kb = Pelicula('kill bill','2002','120')\n",
        "dark = Serie('dark',2016,3)"
      ],
      "metadata": {
        "id": "E3w1OLQw4_lu"
      },
      "execution_count": null,
      "outputs": []
    },
    {
      "cell_type": "code",
      "source": [
        "hl.gusta()\n",
        "hl.gusta()\n",
        "hl.gusta()\n",
        "hl.gusta()\n",
        "spr.gusta()\n",
        "spr.gusta()\n",
        "spr.gusta()\n",
        "spr.gusta()\n",
        "kb.gusta()\n",
        "kb.gusta()\n",
        "hl.gusta()\n",
        "dark.gusta()\n",
        "dark.gusta()\n",
        "dark.gusta()"
      ],
      "metadata": {
        "id": "LvQvWfX6AiyG"
      },
      "execution_count": null,
      "outputs": []
    },
    {
      "cell_type": "code",
      "source": [
        "series_peliculas = [spr,hl,kb,dark]\n",
        "\n",
        "for multimedia in series_peliculas:\n",
        "  # detalles = multimedia.duracion if hasattr(multimedia,'duracion') else multimedia.temporadas\n",
        "  # print(f'Nombre: {multimedia.nombre} -Detalles: {detalles}  - Año: {multimedia.ano}')\n",
        "  # multimedia.imprime()\n",
        "  print(multimedia)"
      ],
      "metadata": {
        "colab": {
          "base_uri": "https://localhost:8080/"
        },
        "id": "-m1Sj00gGTiE",
        "outputId": "b5abb424-9b6c-417e-ac0c-132d50b40e86"
      },
      "execution_count": null,
      "outputs": [
        {
          "output_type": "stream",
          "name": "stdout",
          "text": [
            "Salvando Al Soldado Ryan - 1998 - 170 min - 4 Likes.\n",
            "Heartland - 2007 - 16 temporadas - 5 Likes.\n",
            "Kill Bill - 2002 - 120 min - 2 Likes.\n",
            "Dark - 2016 - 3 temporadas - 3 Likes.\n"
          ]
        }
      ]
    },
    {
      "cell_type": "code",
      "source": [
        "playlist_fds = Playlist('Playlist de fin de semana',series_peliculas)"
      ],
      "metadata": {
        "id": "IEkf_HBSoJnr"
      },
      "execution_count": null,
      "outputs": []
    },
    {
      "cell_type": "code",
      "source": [
        "for contenido in playlist_fds.lista:\n",
        "  print(contenido)"
      ],
      "metadata": {
        "colab": {
          "base_uri": "https://localhost:8080/"
        },
        "id": "AhvqCBHZp5Ys",
        "outputId": "c8e8221f-6670-45c8-d11f-de0573b71796"
      },
      "execution_count": null,
      "outputs": [
        {
          "output_type": "stream",
          "name": "stdout",
          "text": [
            "Salvando Al Soldado Ryan - 1998 - 170 min - 4 Likes.\n",
            "Heartland - 2007 - 16 temporadas - 5 Likes.\n",
            "Kill Bill - 2002 - 120 min - 2 Likes.\n",
            "Dark - 2016 - 3 temporadas - 3 Likes.\n"
          ]
        }
      ]
    },
    {
      "cell_type": "code",
      "source": [
        "playlist_fds.tamano"
      ],
      "metadata": {
        "colab": {
          "base_uri": "https://localhost:8080/"
        },
        "id": "nRukshdLqG08",
        "outputId": "95b97d17-2629-42c8-d875-9b6b9f396921"
      },
      "execution_count": null,
      "outputs": [
        {
          "output_type": "execute_result",
          "data": {
            "text/plain": [
              "4"
            ]
          },
          "metadata": {},
          "execution_count": 34
        }
      ]
    }
  ]
}