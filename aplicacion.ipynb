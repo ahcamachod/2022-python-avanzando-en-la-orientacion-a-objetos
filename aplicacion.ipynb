{
  "nbformat": 4,
  "nbformat_minor": 0,
  "metadata": {
    "colab": {
      "provenance": [],
      "authorship_tag": "ABX9TyNxfEw+Qi6iK2VVhaqZ42Ch",
      "include_colab_link": true
    },
    "kernelspec": {
      "name": "python3",
      "display_name": "Python 3"
    },
    "language_info": {
      "name": "python"
    }
  },
  "cells": [
    {
      "cell_type": "markdown",
      "metadata": {
        "id": "view-in-github",
        "colab_type": "text"
      },
      "source": [
        "<a href=\"https://colab.research.google.com/github/ahcamachod/2022-python-avanzando-en-la-orientacion-a-objetos/blob/aula-4/aplicacion.ipynb\" target=\"_parent\"><img src=\"https://colab.research.google.com/assets/colab-badge.svg\" alt=\"Open In Colab\"/></a>"
      ]
    },
    {
      "cell_type": "code",
      "execution_count": 1,
      "metadata": {
        "id": "xI_6cE-3Z1v1"
      },
      "outputs": [],
      "source": [
        "class Pelicula:\n",
        "  pass"
      ]
    },
    {
      "cell_type": "code",
      "source": [
        "pelicula = Pelicula()"
      ],
      "metadata": {
        "id": "LmI5jVhaaQWC"
      },
      "execution_count": 2,
      "outputs": []
    },
    {
      "cell_type": "code",
      "source": [
        "pelicula"
      ],
      "metadata": {
        "colab": {
          "base_uri": "https://localhost:8080/"
        },
        "id": "_7LeaHHnaZKs",
        "outputId": "42c9183e-5b94-4d07-c6cd-8fb68f56b2a1"
      },
      "execution_count": 3,
      "outputs": [
        {
          "output_type": "execute_result",
          "data": {
            "text/plain": [
              "<__main__.Pelicula at 0x7b06dc139e40>"
            ]
          },
          "metadata": {},
          "execution_count": 3
        }
      ]
    },
    {
      "cell_type": "code",
      "source": [
        "pelicula = None"
      ],
      "metadata": {
        "id": "bMYZqTGla_CC"
      },
      "execution_count": 4,
      "outputs": []
    },
    {
      "cell_type": "code",
      "source": [
        "pelicula"
      ],
      "metadata": {
        "id": "F8mbWSpObGgI"
      },
      "execution_count": 5,
      "outputs": []
    },
    {
      "cell_type": "code",
      "source": [
        "class Pelicula:\n",
        "  def __init__(self, nombre, ano, duracion):\n",
        "    self.nombre = nombre\n",
        "    self.ano = ano\n",
        "    self.duracion =duracion\n",
        "\n",
        "class Serie:\n",
        "  def __init__(self, nombre, ano, temporadas):\n",
        "    self.nombre = nombre\n",
        "    self.ano = ano\n",
        "    self.temporadas = temporadas"
      ],
      "metadata": {
        "id": "JpH6NwdVabXU"
      },
      "execution_count": 6,
      "outputs": []
    },
    {
      "cell_type": "code",
      "source": [
        "spr = Pelicula('salvando al soldado ryan','1998','170')\n",
        "hl = Serie('heartland',2007,16)"
      ],
      "metadata": {
        "id": "nTbkD6OmbkY2"
      },
      "execution_count": 7,
      "outputs": []
    },
    {
      "cell_type": "code",
      "source": [
        "print(spr.nombre)"
      ],
      "metadata": {
        "colab": {
          "base_uri": "https://localhost:8080/"
        },
        "id": "-z9dHO32b6sn",
        "outputId": "6d5d8f30-3086-4dd4-e42a-b664fcd4d793"
      },
      "execution_count": 8,
      "outputs": [
        {
          "output_type": "stream",
          "name": "stdout",
          "text": [
            "salvando al soldado ryan\n"
          ]
        }
      ]
    },
    {
      "cell_type": "code",
      "source": [
        "print(hl.nombre)"
      ],
      "metadata": {
        "colab": {
          "base_uri": "https://localhost:8080/"
        },
        "id": "tg0s9YRpdvDz",
        "outputId": "39f729f3-b884-403c-dfdb-22db9059c019"
      },
      "execution_count": 9,
      "outputs": [
        {
          "output_type": "stream",
          "name": "stdout",
          "text": [
            "heartland\n"
          ]
        }
      ]
    },
    {
      "cell_type": "code",
      "source": [
        "print(f'El nombre de la película es: {spr.nombre} - el año {spr.ano} - la duración {spr.duracion} minutos.')\n",
        "print(f'El nombre de la serie es: {hl.nombre} - el año {hl.ano} - el número de temporadas {hl.temporadas}.')"
      ],
      "metadata": {
        "colab": {
          "base_uri": "https://localhost:8080/"
        },
        "id": "uj4qq2sbdydh",
        "outputId": "d3b5658c-46ea-43e3-c4c1-ba65a1119328"
      },
      "execution_count": 10,
      "outputs": [
        {
          "output_type": "stream",
          "name": "stdout",
          "text": [
            "El nombre de la película es: salvando al soldado ryan - el año 1998 - la duración 170 minutos.\n",
            "El nombre de la serie es: heartland - el año 2007 - el número de temporadas 16.\n"
          ]
        }
      ]
    },
    {
      "cell_type": "code",
      "source": [
        "spr.nombre.capitalize()"
      ],
      "metadata": {
        "colab": {
          "base_uri": "https://localhost:8080/",
          "height": 36
        },
        "id": "QPP3Sut6ePXn",
        "outputId": "3d1d732c-aabc-4dd0-834a-ce3509e18160"
      },
      "execution_count": 11,
      "outputs": [
        {
          "output_type": "execute_result",
          "data": {
            "text/plain": [
              "'Salvando al soldado ryan'"
            ],
            "application/vnd.google.colaboratory.intrinsic+json": {
              "type": "string"
            }
          },
          "metadata": {},
          "execution_count": 11
        }
      ]
    },
    {
      "cell_type": "code",
      "source": [
        "spr.nombre.title()"
      ],
      "metadata": {
        "colab": {
          "base_uri": "https://localhost:8080/",
          "height": 36
        },
        "id": "N2qhdoVNfuqg",
        "outputId": "9da1b25c-46ab-472d-d756-6666d236b079"
      },
      "execution_count": 12,
      "outputs": [
        {
          "output_type": "execute_result",
          "data": {
            "text/plain": [
              "'Salvando Al Soldado Ryan'"
            ],
            "application/vnd.google.colaboratory.intrinsic+json": {
              "type": "string"
            }
          },
          "metadata": {},
          "execution_count": 12
        }
      ]
    },
    {
      "cell_type": "code",
      "source": [
        "class Pelicula:\n",
        "  def __init__(self, nombre, ano, duracion):\n",
        "    self.nombre = nombre.title()\n",
        "    self.ano = ano\n",
        "    self.duracion =duracion\n",
        "    self.me_gusta = 0\n",
        "\n",
        "  def gusta(self):\n",
        "    self.me_gusta += 1\n",
        "\n",
        "class Serie:\n",
        "  def __init__(self, nombre, ano, temporadas):\n",
        "    self.nombre = nombre.title()\n",
        "    self.ano = ano\n",
        "    self.temporadas = temporadas\n",
        "    self.me_gusta = 0\n",
        "\n",
        "  def gusta(self):\n",
        "    self.me_gusta += 1"
      ],
      "metadata": {
        "id": "AZ_0mqMPhVff"
      },
      "execution_count": 13,
      "outputs": []
    },
    {
      "cell_type": "code",
      "source": [
        "spr = Pelicula('salvando al soldado ryan','1998','170')\n",
        "hl = Serie('heartland',2007,16)"
      ],
      "metadata": {
        "id": "sFIOVvj6iJTX"
      },
      "execution_count": 14,
      "outputs": []
    },
    {
      "cell_type": "code",
      "source": [
        "print(spr.nombre)"
      ],
      "metadata": {
        "colab": {
          "base_uri": "https://localhost:8080/"
        },
        "id": "9ukGwP49iN6i",
        "outputId": "3f4db433-d58a-42c7-f315-5a80e7ed71c1"
      },
      "execution_count": 15,
      "outputs": [
        {
          "output_type": "stream",
          "name": "stdout",
          "text": [
            "Salvando Al Soldado Ryan\n"
          ]
        }
      ]
    },
    {
      "cell_type": "code",
      "source": [
        "print(f'El nombre de la película es: {spr.nombre} - el año {spr.ano} - la duración {spr.duracion} minutos. Cantidad de likes: {spr.me_gusta}')\n",
        "print(f'El nombre de la serie es: {hl.nombre} - el año {hl.ano} - el número de temporadas {hl.temporadas}. Cantidad de likes: {hl.me_gusta}')"
      ],
      "metadata": {
        "colab": {
          "base_uri": "https://localhost:8080/"
        },
        "id": "4fjI9ereiQjw",
        "outputId": "332fda5a-679b-43b9-c348-e9fb2c54a479"
      },
      "execution_count": 16,
      "outputs": [
        {
          "output_type": "stream",
          "name": "stdout",
          "text": [
            "El nombre de la película es: Salvando Al Soldado Ryan - el año 1998 - la duración 170 minutos. Cantidad de likes: 0\n",
            "El nombre de la serie es: Heartland - el año 2007 - el número de temporadas 16. Cantidad de likes: 0\n"
          ]
        }
      ]
    },
    {
      "cell_type": "code",
      "source": [
        "spr.gusta()"
      ],
      "metadata": {
        "id": "oznNnLyKjdBf"
      },
      "execution_count": 17,
      "outputs": []
    },
    {
      "cell_type": "code",
      "source": [
        "hl.gusta()"
      ],
      "metadata": {
        "id": "HIzwSD0_jmMJ"
      },
      "execution_count": 18,
      "outputs": []
    },
    {
      "cell_type": "code",
      "source": [
        "print(f'El nombre de la película es: {spr.nombre} - el año {spr.ano} - la duración {spr.duracion} minutos. Cantidad de likes: {spr.me_gusta}')\n",
        "print(f'El nombre de la serie es: {hl.nombre} - el año {hl.ano} - el número de temporadas {hl.temporadas}. Cantidad de likes: {hl.me_gusta}')"
      ],
      "metadata": {
        "colab": {
          "base_uri": "https://localhost:8080/"
        },
        "id": "e-KqDce0jpdO",
        "outputId": "0ad20f80-c580-4574-ceed-435b6364e2f5"
      },
      "execution_count": 19,
      "outputs": [
        {
          "output_type": "stream",
          "name": "stdout",
          "text": [
            "El nombre de la película es: Salvando Al Soldado Ryan - el año 1998 - la duración 170 minutos. Cantidad de likes: 1\n",
            "El nombre de la serie es: Heartland - el año 2007 - el número de temporadas 16. Cantidad de likes: 1\n"
          ]
        }
      ]
    },
    {
      "cell_type": "code",
      "source": [
        "spr.nombre = 'ryan'"
      ],
      "metadata": {
        "id": "2JJJRc7-jrr8"
      },
      "execution_count": 20,
      "outputs": []
    },
    {
      "cell_type": "code",
      "source": [
        "print(f'El nombre de la película es: {spr.nombre} - el año {spr.ano} - la duración {spr.duracion} minutos. Cantidad de likes: {spr.me_gusta}')\n",
        "print(f'El nombre de la serie es: {hl.nombre} - el año {hl.ano} - el número de temporadas {hl.temporadas}. Cantidad de likes: {hl.me_gusta}')"
      ],
      "metadata": {
        "colab": {
          "base_uri": "https://localhost:8080/"
        },
        "id": "VSt8jN8cj2zA",
        "outputId": "79b7a7ee-5e85-4fca-f41e-29005f27b399"
      },
      "execution_count": 21,
      "outputs": [
        {
          "output_type": "stream",
          "name": "stdout",
          "text": [
            "El nombre de la película es: ryan - el año 1998 - la duración 170 minutos. Cantidad de likes: 1\n",
            "El nombre de la serie es: Heartland - el año 2007 - el número de temporadas 16. Cantidad de likes: 1\n"
          ]
        }
      ]
    },
    {
      "cell_type": "code",
      "source": [
        "class Pelicula:\n",
        "  def __init__(self, nombre, ano, duracion):\n",
        "    self.__nombre = nombre.title()\n",
        "    self.ano = ano\n",
        "    self.duracion =duracion\n",
        "    self.__me_gusta = 0\n",
        "\n",
        "  @property\n",
        "  def nombre(self):\n",
        "    return self.__nombre\n",
        "\n",
        "  @property\n",
        "  def me_gusta(self):\n",
        "    return self.__me_gusta\n",
        "\n",
        "  @nombre.setter\n",
        "  def nombre(self,nuevo_nombre):\n",
        "    self.__nombre = nuevo_nombre.title()\n",
        "\n",
        "  def gusta(self):\n",
        "    self.__me_gusta += 1\n",
        "\n",
        "class Serie:\n",
        "  def __init__(self, nombre, ano, temporadas):\n",
        "    self.__nombre = nombre.title()\n",
        "    self.ano = ano\n",
        "    self.temporadas = temporadas\n",
        "    self.__me_gusta = 0\n",
        "\n",
        "  @property\n",
        "  def nombre(self):\n",
        "    return self.__nombre\n",
        "\n",
        "  @property\n",
        "  def me_gusta(self):\n",
        "    return self.__me_gusta\n",
        "\n",
        "  @nombre.setter\n",
        "  def nombre(self,nuevo_nombre):\n",
        "    self.__nombre = nuevo_nombre.title()\n",
        "\n",
        "  def gusta(self):\n",
        "    self.__me_gusta += 1"
      ],
      "metadata": {
        "id": "HGWnRLPymbMn"
      },
      "execution_count": 22,
      "outputs": []
    },
    {
      "cell_type": "code",
      "source": [
        "spr = Pelicula('salvando al soldado ryan','1998','170')\n",
        "hl = Serie('heartland',2007,16)"
      ],
      "metadata": {
        "id": "Cnsh_i2Wovnc"
      },
      "execution_count": 23,
      "outputs": []
    },
    {
      "cell_type": "code",
      "source": [
        "spr.nombre = 'rescatando al soldado ryan'"
      ],
      "metadata": {
        "id": "9Y2MYcuJpI1n"
      },
      "execution_count": 24,
      "outputs": []
    },
    {
      "cell_type": "code",
      "source": [
        "spr.nombre"
      ],
      "metadata": {
        "colab": {
          "base_uri": "https://localhost:8080/",
          "height": 36
        },
        "id": "C4cgD6REpI4E",
        "outputId": "5c6e34f6-85d0-44ed-a9c5-85014a63503c"
      },
      "execution_count": 25,
      "outputs": [
        {
          "output_type": "execute_result",
          "data": {
            "text/plain": [
              "'Rescatando Al Soldado Ryan'"
            ],
            "application/vnd.google.colaboratory.intrinsic+json": {
              "type": "string"
            }
          },
          "metadata": {},
          "execution_count": 25
        }
      ]
    },
    {
      "cell_type": "code",
      "source": [
        "peliculas_series = [spr,hl]\n",
        "\n",
        "for multimedia in peliculas_series:\n",
        "  detalles = multimedia.duracion if hasattr(multimedia,'duracion') else multimedia.temporadas\n",
        "  print(f'{multimedia.nombre} - Detalles: {detalles} - {multimedia.me_gusta}')"
      ],
      "metadata": {
        "colab": {
          "base_uri": "https://localhost:8080/"
        },
        "id": "0UsDOye45OOu",
        "outputId": "d10883aa-6fa4-4697-dac3-ab4283457db7"
      },
      "execution_count": 26,
      "outputs": [
        {
          "output_type": "stream",
          "name": "stdout",
          "text": [
            "Rescatando Al Soldado Ryan - Detalles: 170 - 0\n",
            "Heartland - Detalles: 16 - 0\n"
          ]
        }
      ]
    },
    {
      "cell_type": "code",
      "source": [
        "print(f'El nombre de la película es: {spr.nombre} - el año {spr.ano} - la duración {spr.duracion} minutos. Cantidad de likes: {spr.me_gusta}')\n",
        "print(f'El nombre de la serie es: {hl.nombre} - el año {hl.ano} - el número de temporadas {hl.temporadas}. Cantidad de likes: {hl.me_gusta}')"
      ],
      "metadata": {
        "colab": {
          "base_uri": "https://localhost:8080/"
        },
        "id": "YOutwNRio_KO",
        "outputId": "14c1af4c-3ea0-47e0-a345-d79eb011a67d"
      },
      "execution_count": 27,
      "outputs": [
        {
          "output_type": "stream",
          "name": "stdout",
          "text": [
            "El nombre de la película es: Rescatando Al Soldado Ryan - el año 1998 - la duración 170 minutos. Cantidad de likes: 0\n",
            "El nombre de la serie es: Heartland - el año 2007 - el número de temporadas 16. Cantidad de likes: 0\n"
          ]
        }
      ]
    },
    {
      "cell_type": "code",
      "source": [
        "class Multimedia:\n",
        "  def __init__(self, nombre, ano):\n",
        "    self._nombre = nombre.title()\n",
        "    self.ano = ano\n",
        "    self._me_gusta = 0\n",
        "\n",
        "  @property\n",
        "  def nombre(self):\n",
        "    return self._nombre\n",
        "\n",
        "  @property\n",
        "  def me_gusta(self):\n",
        "    return self._me_gusta\n",
        "\n",
        "  @nombre.setter\n",
        "  def nombre(self,nuevo_nombre):\n",
        "    self._nombre = nuevo_nombre.title()\n",
        "\n",
        "  def gusta(self):\n",
        "    self._me_gusta += 1\n",
        "\n",
        "  # def imprime(self):\n",
        "  #   print(f'{self.nombre} - {self.ano} - {self._me_gusta} Likes.')\n",
        "\n",
        "  def __str__(self):\n",
        "    return f'{self.nombre} - {self.ano} - {self._me_gusta} Likes.'\n",
        "\n",
        "class Pelicula(Multimedia):\n",
        "  def __init__(self, nombre, ano, duracion):\n",
        "    super().__init__(nombre, ano)\n",
        "    self.duracion =duracion\n",
        "    self._me_gusta = 0\n",
        "\n",
        "  # def imprime(self):\n",
        "  #   print(f'{self.nombre} - {self.ano} - {self.duracion} min - {self._me_gusta} Likes.')\n",
        "\n",
        "  def __str__(self):\n",
        "    return f'{self.nombre} - {self.ano} - {self.duracion} min - {self._me_gusta} Likes.'\n",
        "\n",
        "class Serie(Multimedia):\n",
        "  def __init__(self, nombre, ano, temporadas):\n",
        "    super().__init__(nombre, ano)\n",
        "    self.temporadas = temporadas\n",
        "    self._me_gusta = 0\n",
        "\n",
        "  # def imprime(self):\n",
        "  #   print(f'{self.nombre} - {self.ano} - {self.temporadas} temporadas - {self._me_gusta} Likes.')\n",
        "\n",
        "  def __str__(self):\n",
        "    return f'{self.nombre} - {self.ano} - {self.temporadas} temporadas - {self._me_gusta} Likes.'"
      ],
      "metadata": {
        "id": "1OJSZ68VyvfB"
      },
      "execution_count": 28,
      "outputs": []
    },
    {
      "cell_type": "code",
      "source": [
        "spr = Pelicula('salvando al soldado ryan','1998','170')\n",
        "hl = Serie('heartland',2007,16)\n",
        "print(f'El nombre de la película es: {spr.nombre} - el año {spr.ano} - la duración {spr.duracion} minutos. Cantidad de likes: {spr.me_gusta}')\n",
        "print(f'El nombre de la serie es: {hl.nombre} - el año {hl.ano} - el número de temporadas {hl.temporadas}. Cantidad de likes: {hl.me_gusta}')"
      ],
      "metadata": {
        "id": "E3w1OLQw4_lu",
        "colab": {
          "base_uri": "https://localhost:8080/"
        },
        "outputId": "05d19a9e-7b73-4262-8eb8-5b79b325313d"
      },
      "execution_count": 29,
      "outputs": [
        {
          "output_type": "stream",
          "name": "stdout",
          "text": [
            "El nombre de la película es: Salvando Al Soldado Ryan - el año 1998 - la duración 170 minutos. Cantidad de likes: 0\n",
            "El nombre de la serie es: Heartland - el año 2007 - el número de temporadas 16. Cantidad de likes: 0\n"
          ]
        }
      ]
    },
    {
      "cell_type": "code",
      "source": [
        "hl.gusta()\n",
        "hl.gusta()\n",
        "hl.gusta()\n",
        "hl.gusta()\n",
        "spr.gusta()\n",
        "spr.gusta()\n",
        "spr.gusta()\n",
        "spr.gusta()"
      ],
      "metadata": {
        "id": "L8FRkz4uDVWM"
      },
      "execution_count": 30,
      "outputs": []
    },
    {
      "cell_type": "code",
      "source": [
        "series_peliculas = [spr,hl]\n",
        "\n",
        "for multimedia in series_peliculas:\n",
        "  # detalles = multimedia.duracion if hasattr(multimedia,'duracion') else multimedia.temporadas\n",
        "  # print(f'Nombre: {multimedia.nombre} -Detalles: {detalles}  - Año: {multimedia.ano}')\n",
        "  # multimedia.imprime()\n",
        "  print(multimedia)"
      ],
      "metadata": {
        "colab": {
          "base_uri": "https://localhost:8080/"
        },
        "id": "-m1Sj00gGTiE",
        "outputId": "afef6e57-9b87-444a-c1fa-6ba0e6bb69c7"
      },
      "execution_count": 31,
      "outputs": [
        {
          "output_type": "stream",
          "name": "stdout",
          "text": [
            "Salvando Al Soldado Ryan - 1998 - 170 min - 4 Likes.\n",
            "Heartland - 2007 - 16 temporadas - 4 Likes.\n"
          ]
        }
      ]
    }
  ]
}